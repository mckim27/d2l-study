{
 "cells": [
  {
   "cell_type": "markdown",
   "metadata": {},
   "source": [
    "## 8. CONVOLUTIONAL NEURAL NETWORKS"
   ]
  },
  {
   "cell_type": "markdown",
   "metadata": {},
   "source": [
    "#### 8.2.1 The Cross-Correlation Operator "
   ]
  },
  {
   "cell_type": "code",
   "execution_count": 1,
   "metadata": {},
   "outputs": [],
   "source": [
    "from mxnet import autograd, nd \n",
    "from mxnet.gluon import nn\n",
    "\n",
    "# Save to the d2l package. \n",
    "def corr2d(X, K):\n",
    "    \"\"\"Compute 2D cross-correlation.\"\"\" \n",
    "    h, w = K.shape \n",
    "    Y = nd.zeros((X.shape[0] - h + 1, X.shape[1] - w + 1)) \n",
    "    \n",
    "    for i in range(Y.shape[0]):\n",
    "        for j in range(Y.shape[1]):\n",
    "            Y[i, j] = (X[i: i + h, j: j + w] * K).sum()\n",
    "            \n",
    "    return Y\n"
   ]
  },
  {
   "cell_type": "code",
   "execution_count": 2,
   "metadata": {},
   "outputs": [
    {
     "data": {
      "text/plain": [
       "\n",
       "[[19. 25.]\n",
       " [37. 43.]]\n",
       "<NDArray 2x2 @cpu(0)>"
      ]
     },
     "execution_count": 2,
     "metadata": {},
     "output_type": "execute_result"
    }
   ],
   "source": [
    "X = nd.array([[0, 1, 2], [3, 4, 5], [6, 7, 8]]) \n",
    "K = nd.array([[0, 1], [2, 3]]) \n",
    "corr2d(X, K)"
   ]
  },
  {
   "cell_type": "markdown",
   "metadata": {},
   "source": [
    "#### 8.2.2 Convolutional Layers"
   ]
  },
  {
   "cell_type": "code",
   "execution_count": 3,
   "metadata": {},
   "outputs": [],
   "source": [
    "class Conv2D(nn.Block):\n",
    "    def __init__(self, kernel_size, **kwargs):\n",
    "        super(Conv2D, self).__init__(**kwargs) \n",
    "        self.weight = self.params.get('weight', shape=kernel_size) \n",
    "        self.bias = self.params.get('bias', shape=(1,))\n",
    "        \n",
    "    def forward(self, x):\n",
    "        return corr2d(x, self.weight.data()) + self.bias.data()\n"
   ]
  },
  {
   "cell_type": "markdown",
   "metadata": {},
   "source": [
    "#### 8.2.3 Object Edge Detection in Images "
   ]
  },
  {
   "cell_type": "code",
   "execution_count": 4,
   "metadata": {},
   "outputs": [
    {
     "data": {
      "text/plain": [
       "\n",
       "[[1. 1. 0. 0. 0. 0. 1. 1.]\n",
       " [1. 1. 0. 0. 0. 0. 1. 1.]\n",
       " [1. 1. 0. 0. 0. 0. 1. 1.]\n",
       " [1. 1. 0. 0. 0. 0. 1. 1.]\n",
       " [1. 1. 0. 0. 0. 0. 1. 1.]\n",
       " [1. 1. 0. 0. 0. 0. 1. 1.]]\n",
       "<NDArray 6x8 @cpu(0)>"
      ]
     },
     "execution_count": 4,
     "metadata": {},
     "output_type": "execute_result"
    }
   ],
   "source": [
    "X = nd.ones((6, 8)) \n",
    "X[:, 2:6] = 0 \n",
    "X"
   ]
  },
  {
   "cell_type": "code",
   "execution_count": 5,
   "metadata": {},
   "outputs": [
    {
     "data": {
      "text/plain": [
       "\n",
       "[[ 0.  1.  0.  0.  0. -1.  0.]\n",
       " [ 0.  1.  0.  0.  0. -1.  0.]\n",
       " [ 0.  1.  0.  0.  0. -1.  0.]\n",
       " [ 0.  1.  0.  0.  0. -1.  0.]\n",
       " [ 0.  1.  0.  0.  0. -1.  0.]\n",
       " [ 0.  1.  0.  0.  0. -1.  0.]]\n",
       "<NDArray 6x7 @cpu(0)>"
      ]
     },
     "execution_count": 5,
     "metadata": {},
     "output_type": "execute_result"
    }
   ],
   "source": [
    "K = nd.array([[1, -1]])\n",
    "Y = corr2d(X, K) \n",
    "Y"
   ]
  },
  {
   "cell_type": "code",
   "execution_count": 6,
   "metadata": {},
   "outputs": [
    {
     "data": {
      "text/plain": [
       "\n",
       "[[0. 0. 0. 0. 0.]\n",
       " [0. 0. 0. 0. 0.]\n",
       " [0. 0. 0. 0. 0.]\n",
       " [0. 0. 0. 0. 0.]\n",
       " [0. 0. 0. 0. 0.]\n",
       " [0. 0. 0. 0. 0.]\n",
       " [0. 0. 0. 0. 0.]\n",
       " [0. 0. 0. 0. 0.]]\n",
       "<NDArray 8x5 @cpu(0)>"
      ]
     },
     "execution_count": 6,
     "metadata": {},
     "output_type": "execute_result"
    }
   ],
   "source": [
    "corr2d(X.T, K)"
   ]
  },
  {
   "cell_type": "markdown",
   "metadata": {},
   "source": [
    "#### 8.2.4 Learning a Kernel"
   ]
  },
  {
   "cell_type": "code",
   "execution_count": 13,
   "metadata": {},
   "outputs": [
    {
     "name": "stdout",
     "output_type": "stream",
     "text": [
      "batch 2, loss 5.154\n",
      "batch 4, loss 0.872\n",
      "batch 6, loss 0.149\n",
      "batch 8, loss 0.026\n",
      "batch 10, loss 0.005\n"
     ]
    }
   ],
   "source": [
    "from mxnet.gluon import nn\n",
    "# Construct a convolutional layer with 1 output channel \n",
    "# (channels will be introduced in the following section) \n",
    "# and a kernel array shape of (1, 2) \n",
    "conv2d = nn.Conv2D(1, kernel_size=(1, 2)) \n",
    "conv2d.initialize()\n",
    "\n",
    "# The two-dimensional convolutional layer uses four-dimensional input and \n",
    "# output in the format of (example, channel, height, width), where the batch \n",
    "# size (number of examples in the batch) and the number of channels are both 1 \n",
    "X = X.reshape((1, 1, 6, 8)) \n",
    "Y = Y.reshape((1, 1, 6, 7))\n",
    "\n",
    "for i in range(10):\n",
    "    with autograd.record():\n",
    "        Y_hat = conv2d(X) \n",
    "        l = (Y_hat - Y) ** 2\n",
    "    l.backward() \n",
    "    \n",
    "    # For the sake of simplicity, we ignore the bias here \n",
    "    conv2d.weight.data()[:] -= 3e-2 * conv2d.weight.grad() \n",
    "    \n",
    "    if (i + 1) % 2 == 0:\n",
    "        print('batch %d, loss %.3f' % (i + 1, l.sum().asscalar()))\n"
   ]
  },
  {
   "cell_type": "code",
   "execution_count": 8,
   "metadata": {},
   "outputs": [
    {
     "data": {
      "text/plain": [
       "\n",
       "[[ 0.9895    -0.9873705]]\n",
       "<NDArray 1x2 @cpu(0)>"
      ]
     },
     "execution_count": 8,
     "metadata": {},
     "output_type": "execute_result"
    }
   ],
   "source": [
    "conv2d.weight.data().reshape((1, 2))"
   ]
  },
  {
   "cell_type": "code",
   "execution_count": 9,
   "metadata": {},
   "outputs": [
    {
     "data": {
      "text/plain": [
       "Conv2D(1 -> 1, kernel_size=(1, 2), stride=(1, 1))"
      ]
     },
     "execution_count": 9,
     "metadata": {},
     "output_type": "execute_result"
    }
   ],
   "source": [
    "conv2d"
   ]
  },
  {
   "cell_type": "code",
   "execution_count": 10,
   "metadata": {},
   "outputs": [
    {
     "data": {
      "text/plain": [
       "Parameter conv0_weight (shape=(1, 1, 1, 2), dtype=<class 'numpy.float32'>)"
      ]
     },
     "execution_count": 10,
     "metadata": {},
     "output_type": "execute_result"
    }
   ],
   "source": [
    "conv2d.weight"
   ]
  },
  {
   "cell_type": "markdown",
   "metadata": {},
   "source": [
    "### 8.3 Padding and Stride"
   ]
  },
  {
   "cell_type": "markdown",
   "metadata": {},
   "source": [
    "#### 8.3.1 Padding "
   ]
  },
  {
   "cell_type": "code",
   "execution_count": 1,
   "metadata": {},
   "outputs": [
    {
     "data": {
      "text/plain": [
       "(8, 8)"
      ]
     },
     "execution_count": 1,
     "metadata": {},
     "output_type": "execute_result"
    }
   ],
   "source": [
    "from mxnet import nd \n",
    "from mxnet.gluon import nn\n",
    "\n",
    "# For convenience, we define a function to calculate the convolutional layer. \n",
    "# This function initializes the convolutional layer weights and performs \n",
    "# corresponding dimensionality elevations and reductions on the input and \n",
    "# output \n",
    "def comp_conv2d(conv2d, X):\n",
    "    conv2d.initialize() \n",
    "    # (1,1) indicates that the batch size and the number of channels \n",
    "    # (described in later chapters) are both 1 \n",
    "    X = X.reshape((1, 1) + X.shape) \n",
    "    Y = conv2d(X) \n",
    "    # Exclude the first two dimensions that do not interest us: batch and \n",
    "    # channel \n",
    "    return Y.reshape(Y.shape[2:])\n",
    "\n",
    "# Note that here 1 row or column is padded on either side, so a total of 2 \n",
    "# rows or columns are added \n",
    "conv2d = nn.Conv2D(1, kernel_size=3, padding=1) \n",
    "X = nd.random.uniform(shape=(8, 8)) \n",
    "comp_conv2d(conv2d, X).shape"
   ]
  },
  {
   "cell_type": "code",
   "execution_count": 2,
   "metadata": {},
   "outputs": [
    {
     "data": {
      "text/plain": [
       "(8, 8)"
      ]
     },
     "execution_count": 2,
     "metadata": {},
     "output_type": "execute_result"
    }
   ],
   "source": [
    "# Here, we use a convolution kernel with a height of 5 and a width of 3. The \n",
    "# padding numbers on both sides of the height and width are 2 and 1, \n",
    "# respectively \n",
    "conv2d = nn.Conv2D(1, kernel_size=(5, 3), padding=(2, 1)) \n",
    "comp_conv2d(conv2d, X).shape"
   ]
  },
  {
   "cell_type": "markdown",
   "metadata": {},
   "source": [
    "#### 8.3.2 Stride "
   ]
  },
  {
   "cell_type": "code",
   "execution_count": 18,
   "metadata": {},
   "outputs": [
    {
     "data": {
      "text/plain": [
       "(4, 4)"
      ]
     },
     "execution_count": 18,
     "metadata": {},
     "output_type": "execute_result"
    }
   ],
   "source": [
    "conv2d = nn.Conv2D(1, kernel_size=3, padding=1, strides=2) \n",
    "comp_conv2d(conv2d, X).shape"
   ]
  },
  {
   "cell_type": "code",
   "execution_count": 19,
   "metadata": {},
   "outputs": [
    {
     "data": {
      "text/plain": [
       "(2, 2)"
      ]
     },
     "execution_count": 19,
     "metadata": {},
     "output_type": "execute_result"
    }
   ],
   "source": [
    "conv2d = nn.Conv2D(1, kernel_size=(3, 5), padding=(0, 1), strides=(3, 4))\n",
    "comp_conv2d(conv2d, X).shape"
   ]
  },
  {
   "cell_type": "markdown",
   "metadata": {},
   "source": [
    "### 8.4 Multiple Input and Output Channels"
   ]
  },
  {
   "cell_type": "markdown",
   "metadata": {},
   "source": [
    "#### 8.4.1 Multiple Input Channels "
   ]
  },
  {
   "cell_type": "code",
   "execution_count": 9,
   "metadata": {},
   "outputs": [],
   "source": [
    "import d2l \n",
    "from mxnet import nd\n",
    "\n",
    "def corr2d_multi_in(X, K):\n",
    "    # First, traverse along the 0th dimension (channel dimension) of X and K. \n",
    "    # Then, add them together by using * to turn the result list into a \n",
    "    # positional argument of the add_n function \n",
    "    return nd.add_n(*[d2l.corr2d(x, k) for x, k in zip(X, K)])\n"
   ]
  },
  {
   "cell_type": "code",
   "execution_count": 10,
   "metadata": {},
   "outputs": [
    {
     "data": {
      "text/plain": [
       "\n",
       "[[ 56.  72.]\n",
       " [104. 120.]]\n",
       "<NDArray 2x2 @cpu(0)>"
      ]
     },
     "execution_count": 10,
     "metadata": {},
     "output_type": "execute_result"
    }
   ],
   "source": [
    "X = nd.array([[[0, 1, 2], [3, 4, 5], [6, 7, 8]], [[1, 2, 3], [4, 5, 6], [7, 8, 9]]])\n",
    "\n",
    "K = nd.array([[[0, 1], [2, 3]], [[1, 2], [3, 4]]])\n",
    "\n",
    "corr2d_multi_in(X, K)"
   ]
  },
  {
   "cell_type": "markdown",
   "metadata": {},
   "source": [
    "#### 8.4.2 Multiple Output Channels "
   ]
  },
  {
   "cell_type": "code",
   "execution_count": 11,
   "metadata": {},
   "outputs": [],
   "source": [
    "def corr2d_multi_in_out(X, K):\n",
    "    # Traverse along the 0th dimension of K, and each time, perform \n",
    "    # cross-correlation operations with input X. All of the results are merged \n",
    "    # together using the stack function \n",
    "    return nd.stack(*[corr2d_multi_in(X, k) for k in K])"
   ]
  },
  {
   "cell_type": "code",
   "execution_count": 12,
   "metadata": {},
   "outputs": [
    {
     "data": {
      "text/plain": [
       "(3, 2, 2, 2)"
      ]
     },
     "execution_count": 12,
     "metadata": {},
     "output_type": "execute_result"
    }
   ],
   "source": [
    "K = nd.stack(K, K + 1, K + 2) \n",
    "K.shape"
   ]
  },
  {
   "cell_type": "code",
   "execution_count": 13,
   "metadata": {},
   "outputs": [
    {
     "data": {
      "text/plain": [
       "\n",
       "[[[ 56.  72.]\n",
       "  [104. 120.]]\n",
       "\n",
       " [[ 76. 100.]\n",
       "  [148. 172.]]\n",
       "\n",
       " [[ 96. 128.]\n",
       "  [192. 224.]]]\n",
       "<NDArray 3x2x2 @cpu(0)>"
      ]
     },
     "execution_count": 13,
     "metadata": {},
     "output_type": "execute_result"
    }
   ],
   "source": [
    "corr2d_multi_in_out(X, K)"
   ]
  },
  {
   "cell_type": "markdown",
   "metadata": {},
   "source": [
    "#### 8.4.3 1 x 1 Convolutional Layer "
   ]
  },
  {
   "cell_type": "code",
   "execution_count": 14,
   "metadata": {},
   "outputs": [],
   "source": [
    "from mxnet import nd\n",
    "\n",
    "def corr2d_multi_in_out_1x1(X, K):\n",
    "    c_i, h, w = X.shape \n",
    "    c_o = K.shape[0] \n",
    "    X = X.reshape((c_i, h * w)) \n",
    "    K = K.reshape((c_o, c_i)) \n",
    "    Y = nd.dot(K, X) # Matrix multiplication in the fully connected layer \n",
    "    return Y.reshape((c_o, h, w))\n"
   ]
  },
  {
   "cell_type": "code",
   "execution_count": 19,
   "metadata": {},
   "outputs": [
    {
     "name": "stdout",
     "output_type": "stream",
     "text": [
      "\n",
      "[[[0.00469548 0.14644176 0.6778165 ]\n",
      "  [0.5696184  0.27000797 0.70373726]\n",
      "  [0.735194   0.28847644 0.96218854]]\n",
      "\n",
      " [[0.43328807 0.24875315 0.7561067 ]\n",
      "  [0.57615733 0.3960983  0.5920419 ]\n",
      "  [0.8960384  0.5722519  0.6389211 ]]\n",
      "\n",
      " [[0.22308163 0.8915544  0.952749  ]\n",
      "  [0.68005556 0.44712538 0.44919774]\n",
      "  [0.84640867 0.97857094 0.6994793 ]]]\n",
      "<NDArray 3x3x3 @cpu(0)>\n",
      "\n",
      "[[[[0.11620191]]\n",
      "\n",
      "  [[0.29743695]]\n",
      "\n",
      "  [[0.7670237 ]]]\n",
      "\n",
      "\n",
      " [[[0.81379783]]\n",
      "\n",
      "  [[0.41182014]]\n",
      "\n",
      "  [[0.39650574]]]]\n",
      "<NDArray 2x3x1x1 @cpu(0)>\n",
      "\n",
      "[[[0.3005304  0.7748486  1.0344387 ]\n",
      "  [0.75917995 0.49214545 0.60241604]\n",
      "  [1.0011613  0.95431745 0.8383641 ]]\n",
      "\n",
      " [[0.2707111  0.575122   1.240756  ]\n",
      "  [0.97047335 0.5601409  0.9946241 ]\n",
      "  [1.3029119  0.8584354  1.323495  ]]]\n",
      "<NDArray 2x3x3 @cpu(0)>\n",
      "\n",
      "[[[0.3005304  0.7748486  1.0344387 ]\n",
      "  [0.75917995 0.49214545 0.60241604]\n",
      "  [1.0011615  0.9543175  0.83836406]]\n",
      "\n",
      " [[0.27071106 0.575122   1.240756  ]\n",
      "  [0.9704734  0.56014097 0.99462414]\n",
      "  [1.3029119  0.8584354  1.323495  ]]]\n",
      "<NDArray 2x3x3 @cpu(0)>\n"
     ]
    },
    {
     "data": {
      "text/plain": [
       "True"
      ]
     },
     "execution_count": 19,
     "metadata": {},
     "output_type": "execute_result"
    }
   ],
   "source": [
    "X = nd.random.uniform(shape=(3, 3, 3)) \n",
    "print(X)\n",
    "K = nd.random.uniform(shape=(2, 3, 1, 1))\n",
    "print(K)\n",
    "Y1 = corr2d_multi_in_out_1x1(X, K) \n",
    "print(Y1)\n",
    "Y2 = corr2d_multi_in_out(X, K)\n",
    "print(Y2)\n",
    "(Y1 - Y2).norm().asscalar() < 1e-6\n"
   ]
  },
  {
   "cell_type": "markdown",
   "metadata": {},
   "source": [
    "### 8.5 Pooling\n"
   ]
  },
  {
   "cell_type": "markdown",
   "metadata": {},
   "source": [
    "#### 8.5.1 Maximum Pooling and Average Pooling "
   ]
  },
  {
   "cell_type": "code",
   "execution_count": 51,
   "metadata": {},
   "outputs": [],
   "source": [
    "from mxnet import nd \n",
    "from mxnet.gluon import nn\n",
    "\n",
    "def pool2d(X, pool_size, mode='max'):\n",
    "    p_h, p_w = pool_size \n",
    "    Y = nd.zeros((X.shape[0] - p_h + 1, X.shape[1] - p_w + 1)) \n",
    "    \n",
    "    for i in range(Y.shape[0]):\n",
    "        for j in range(Y.shape[1]):\n",
    "            if mode == 'max':\n",
    "                Y[i, j] = X[i: i + p_h, j: j + p_w].max()\n",
    "            elif mode == 'avg':\n",
    "                Y[i, j] = X[i: i + p_h, j: j + p_w].mean()\n",
    "    return Y"
   ]
  },
  {
   "cell_type": "code",
   "execution_count": 52,
   "metadata": {},
   "outputs": [
    {
     "data": {
      "text/plain": [
       "\n",
       "[[4. 5.]\n",
       " [7. 8.]]\n",
       "<NDArray 2x2 @cpu(0)>"
      ]
     },
     "execution_count": 52,
     "metadata": {},
     "output_type": "execute_result"
    }
   ],
   "source": [
    "X = nd.array([[0, 1, 2], [3, 4, 5], [6, 7, 8]]) \n",
    "\n",
    "pool2d(X, (2, 2))"
   ]
  },
  {
   "cell_type": "code",
   "execution_count": 53,
   "metadata": {},
   "outputs": [
    {
     "data": {
      "text/plain": [
       "\n",
       "[[2. 3.]\n",
       " [5. 6.]]\n",
       "<NDArray 2x2 @cpu(0)>"
      ]
     },
     "execution_count": 53,
     "metadata": {},
     "output_type": "execute_result"
    }
   ],
   "source": [
    "pool2d(X, (2, 2), 'avg')"
   ]
  },
  {
   "cell_type": "markdown",
   "metadata": {},
   "source": [
    "#### 8.5.2 Padding and Stride "
   ]
  },
  {
   "cell_type": "code",
   "execution_count": 54,
   "metadata": {},
   "outputs": [
    {
     "name": "stdout",
     "output_type": "stream",
     "text": [
      "\n",
      "[[[[ 0.  1.  2.  3.]\n",
      "   [ 4.  5.  6.  7.]\n",
      "   [ 8.  9. 10. 11.]\n",
      "   [12. 13. 14. 15.]]]]\n",
      "<NDArray 1x1x4x4 @cpu(0)>\n"
     ]
    }
   ],
   "source": [
    "X = nd.arange(16).reshape((1, 1, 4, 4)) \n",
    "print(X)"
   ]
  },
  {
   "cell_type": "code",
   "execution_count": 55,
   "metadata": {},
   "outputs": [
    {
     "name": "stdout",
     "output_type": "stream",
     "text": [
      "MaxPool2D(size=(3, 3), stride=(3, 3), padding=(0, 0), ceil_mode=False, global_pool=False, pool_type=max, layout=NCHW)\n"
     ]
    }
   ],
   "source": [
    "pool2d = nn.MaxPool2D(3)\n",
    "print(pool2d)"
   ]
  },
  {
   "cell_type": "code",
   "execution_count": 56,
   "metadata": {},
   "outputs": [
    {
     "data": {
      "text/plain": [
       "\n",
       "[[[[10.]]]]\n",
       "<NDArray 1x1x1x1 @cpu(0)>"
      ]
     },
     "execution_count": 56,
     "metadata": {},
     "output_type": "execute_result"
    }
   ],
   "source": [
    "pool2d(X)"
   ]
  },
  {
   "cell_type": "code",
   "execution_count": 57,
   "metadata": {},
   "outputs": [
    {
     "data": {
      "text/plain": [
       "\n",
       "[[[[ 5.  7.]\n",
       "   [13. 15.]]]]\n",
       "<NDArray 1x1x2x2 @cpu(0)>"
      ]
     },
     "execution_count": 57,
     "metadata": {},
     "output_type": "execute_result"
    }
   ],
   "source": [
    "pool2d = nn.MaxPool2D(3, padding=1, strides=2) \n",
    "pool2d(X)"
   ]
  },
  {
   "cell_type": "code",
   "execution_count": 58,
   "metadata": {},
   "outputs": [
    {
     "data": {
      "text/plain": [
       "\n",
       "[[[[ 0.  3.]\n",
       "   [ 8. 11.]\n",
       "   [12. 15.]]]]\n",
       "<NDArray 1x1x3x2 @cpu(0)>"
      ]
     },
     "execution_count": 58,
     "metadata": {},
     "output_type": "execute_result"
    }
   ],
   "source": [
    "pool2d = nn.MaxPool2D((2, 3), padding=(1, 2), strides=(2, 3))\n",
    "pool2d(X)"
   ]
  },
  {
   "cell_type": "markdown",
   "metadata": {},
   "source": [
    "#### 8.5.3 Multiple Channels "
   ]
  },
  {
   "cell_type": "code",
   "execution_count": 59,
   "metadata": {},
   "outputs": [
    {
     "data": {
      "text/plain": [
       "\n",
       "[[[[ 0.  1.  2.  3.]\n",
       "   [ 4.  5.  6.  7.]\n",
       "   [ 8.  9. 10. 11.]\n",
       "   [12. 13. 14. 15.]]\n",
       "\n",
       "  [[ 1.  2.  3.  4.]\n",
       "   [ 5.  6.  7.  8.]\n",
       "   [ 9. 10. 11. 12.]\n",
       "   [13. 14. 15. 16.]]]]\n",
       "<NDArray 1x2x4x4 @cpu(0)>"
      ]
     },
     "execution_count": 59,
     "metadata": {},
     "output_type": "execute_result"
    }
   ],
   "source": [
    "X = nd.concat(X, X + 1, dim=1)\n",
    "X\n"
   ]
  },
  {
   "cell_type": "code",
   "execution_count": 60,
   "metadata": {},
   "outputs": [
    {
     "data": {
      "text/plain": [
       "\n",
       "[[[[ 5.  7.]\n",
       "   [13. 15.]]\n",
       "\n",
       "  [[ 6.  8.]\n",
       "   [14. 16.]]]]\n",
       "<NDArray 1x2x2x2 @cpu(0)>"
      ]
     },
     "execution_count": 60,
     "metadata": {},
     "output_type": "execute_result"
    }
   ],
   "source": [
    "pool2d = nn.MaxPool2D(3, padding=1, strides=2) \n",
    "pool2d(X)"
   ]
  },
  {
   "cell_type": "markdown",
   "metadata": {},
   "source": [
    "### 8.6 Convolutional Neural Networks (LeNet)"
   ]
  },
  {
   "cell_type": "markdown",
   "metadata": {},
   "source": [
    "#### 8.6.1 LeNet "
   ]
  },
  {
   "cell_type": "code",
   "execution_count": 1,
   "metadata": {},
   "outputs": [],
   "source": [
    "import d2l \n",
    "from mxnet import autograd, gluon, init, nd \n",
    "from mxnet.gluon import nn\n",
    "\n",
    "net = nn.Sequential() \n",
    "net.add(\n",
    "    nn.Conv2D(channels=6, kernel_size=5, padding=2, activation='sigmoid'),\n",
    "    nn.AvgPool2D(pool_size=2, strides=2), \n",
    "    nn.Conv2D(channels=16, kernel_size=5, activation='sigmoid'), \n",
    "    nn.AvgPool2D(pool_size=2, strides=2), \n",
    "    # Dense will transform the input of the shape (batch size, channel, \n",
    "    # height, width) into the input of the shape (batch size, \n",
    "    # channel * height * width) automatically by default \n",
    "    nn.Dense(120, activation='sigmoid'), \n",
    "    nn.Dense(84, activation='sigmoid'), \n",
    "    nn.Dense(10))\n"
   ]
  },
  {
   "cell_type": "code",
   "execution_count": 2,
   "metadata": {},
   "outputs": [
    {
     "name": "stdout",
     "output_type": "stream",
     "text": [
      "conv0 output shape:\t (1, 6, 28, 28)\n",
      "pool0 output shape:\t (1, 6, 14, 14)\n",
      "conv1 output shape:\t (1, 16, 10, 10)\n",
      "pool1 output shape:\t (1, 16, 5, 5)\n",
      "dense0 output shape:\t (1, 120)\n",
      "dense1 output shape:\t (1, 84)\n",
      "dense2 output shape:\t (1, 10)\n"
     ]
    }
   ],
   "source": [
    "X = nd.random.uniform(shape=(1,1,28,28))\n",
    "net.initialize()\n",
    "for layer in net:\n",
    "    X = layer(X)\n",
    "    print(layer.name, 'output shape:\\t', X.shape)"
   ]
  },
  {
   "cell_type": "code",
   "execution_count": null,
   "metadata": {},
   "outputs": [],
   "source": [
    "import d2l\n",
    "\n",
    "batch_size = 256\n",
    "train_iter, test_iter = d2l.load_data_fashion_mnist(batch_size)"
   ]
  },
  {
   "cell_type": "code",
   "execution_count": null,
   "metadata": {},
   "outputs": [],
   "source": [
    "# Save to the d2l package \n",
    "def evaluate_accuracy_gpu(net, data_iter, ctx=None):\n",
    "    if not ctx: # Query the first device the first parameter is on.\n",
    "        ctx = list(net.collect_params().values())[0].list_ctx()[0] \n",
    "    metric = d2l.Accumulator(2) # num_corrected_examples, num_examples\n",
    "    \n",
    "    for X, y in data_iter:\n",
    "        X, y = X.as_in_context(ctx), y.as_in_context(ctx) \n",
    "        metric.add(d2l.accuracy(net(X), y), y.size)\n",
    "    \n",
    "    return metric[0].metric[1]"
   ]
  },
  {
   "cell_type": "code",
   "execution_count": null,
   "metadata": {},
   "outputs": [],
   "source": [
    "\n",
    "def train_ch5(net, train_iter, test_iter, num_epochs, lr):\n",
    "    net.initialize(force_reinit=True, ctx=ctx, init=init.Xavier()) \n",
    "    loss = gluon.loss.SoftmaxCrossEntropyLoss() \n",
    "    trainer = gluon.Trainer(net.collect_params(),'sgd', {'learning_rate': lr})\n",
    "    \n",
    "    animator = d2l.Animator(xlabel='epoch', xlim=[0,num_epochs],legend=['train loss','train acc','test acc'])\n",
    "    \n",
    "    timer = d2l.Timer() \n",
    "    for epoch in range(num_epochs):\n",
    "        metric = d2l.Accumulator(3) # train_loss, train_acc, num_examples \n",
    "        for i, (X, y) in enumerate(train_iter):\n",
    "            timer.start() # Here is the only difference compared to train_epoch_ch3 \n",
    "            X, y = X.as_in_context(ctx), \n",
    "            y.as_in_context(ctx) \n",
    "            \n",
    "            with autograd.record():\n",
    "                y_hat = net(X) \n",
    "                l = loss(y_hat, y)\n",
    "            l.backward() \n",
    "            trainer.step(X.shape[0]) \n",
    "            metric.add(l.sum().asscalar(), d2l.accuracy(y_hat, y), X.shape[0]) \n",
    "            timer.stop() \n",
    "            train_loss, train_acc = metric[0]/metric[2], metric[1]/metric[2]\n",
    "            \n",
    "            if (i+1) % 50 == 0:\n",
    "                animator.add(epoch + i/len(train_iter), (train_loss, train_acc, None))\n",
    "        test_acc = evaluate_accuracy_gpu(net, test_iter) \n",
    "        animator.add(epoch+1, (None, None, test_acc))\n",
    "        \n",
    "    print('loss %.3f, train acc %.3f, test acc %.3f' % (train_loss, train_acc, test_acc))\n",
    "    print('%.1f exampes/sec on %s'%(metric[2]*num_epochs/timer.sum(), ctx))\n",
    "\n",
    "            \n"
   ]
  },
  {
   "cell_type": "markdown",
   "metadata": {},
   "source": [
    "# 9. MODERN CONVOLUTIONAL NETWORKS"
   ]
  },
  {
   "cell_type": "markdown",
   "metadata": {},
   "source": [
    "### 9.1 Deep Convolutional Neural Networks (AlexNet)"
   ]
  },
  {
   "cell_type": "markdown",
   "metadata": {},
   "source": [
    "#### 9.1.1 Learning Feature Representation "
   ]
  },
  {
   "cell_type": "code",
   "execution_count": null,
   "metadata": {},
   "outputs": [],
   "source": []
  }
 ],
 "metadata": {
  "kernelspec": {
   "display_name": "D2L Study Py3.7",
   "language": "python",
   "name": "d2l"
  },
  "language_info": {
   "codemirror_mode": {
    "name": "ipython",
    "version": 3
   },
   "file_extension": ".py",
   "mimetype": "text/x-python",
   "name": "python",
   "nbconvert_exporter": "python",
   "pygments_lexer": "ipython3",
   "version": "3.7.4"
  }
 },
 "nbformat": 4,
 "nbformat_minor": 2
}
